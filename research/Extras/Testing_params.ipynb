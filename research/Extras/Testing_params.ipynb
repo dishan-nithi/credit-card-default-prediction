{
 "cells": [
  {
   "cell_type": "code",
   "execution_count": 9,
   "metadata": {},
   "outputs": [],
   "source": [
    "import os\n",
    "import os\n",
    "import pandas as pd\n",
    "from sklearn.metrics import roc_auc_score, f1_score, precision_score, recall_score, accuracy_score\n",
    "from urllib.parse import urlparse\n",
    "import joblib\n",
    "import itertools\n",
    "from xgboost import XGBClassifier, XGBRFClassifier\n",
    "\n",
    "import matplotlib.pyplot as plt\n",
    "import os\n",
    "from sklearn.model_selection import *\n",
    "from xgboost import XGBClassifier\n",
    "from sklearn.metrics import *\n",
    "import lightgbm as lgb\n",
    "from sklearn.preprocessing import *\n",
    "import seaborn as sns\n",
    "from sklearn.utils import class_weight\n",
    "from sklearn.ensemble import *\n",
    "from sklearn.linear_model import LogisticRegression\n",
    "from sklearn.feature_selection import mutual_info_classif\n",
    "import numpy as np"
   ]
  },
  {
   "cell_type": "code",
   "execution_count": 2,
   "metadata": {},
   "outputs": [],
   "source": [
    "os.chdir('..')"
   ]
  },
  {
   "cell_type": "code",
   "execution_count": 3,
   "metadata": {},
   "outputs": [],
   "source": [
    "df=pd.read_csv('artifacts/data_transformation/train.csv')"
   ]
  },
  {
   "cell_type": "code",
   "execution_count": 4,
   "metadata": {},
   "outputs": [
    {
     "data": {
      "text/html": [
       "<div>\n",
       "<style scoped>\n",
       "    .dataframe tbody tr th:only-of-type {\n",
       "        vertical-align: middle;\n",
       "    }\n",
       "\n",
       "    .dataframe tbody tr th {\n",
       "        vertical-align: top;\n",
       "    }\n",
       "\n",
       "    .dataframe thead th {\n",
       "        text-align: right;\n",
       "    }\n",
       "</style>\n",
       "<table border=\"1\" class=\"dataframe\">\n",
       "  <thead>\n",
       "    <tr style=\"text-align: right;\">\n",
       "      <th></th>\n",
       "      <th>ACC_NO</th>\n",
       "      <th>MIN_DUE_AMT_1</th>\n",
       "      <th>MIN_DUE_AMT_2</th>\n",
       "      <th>MIN_DUE_AMT_3</th>\n",
       "      <th>MIN_DUE_AMT_4</th>\n",
       "      <th>MIN_DUE_AMT_5</th>\n",
       "      <th>MIN_DUE_AMT_6</th>\n",
       "      <th>OVER_LIMIT_FEE_1</th>\n",
       "      <th>OVER_LIMIT_FEE_2</th>\n",
       "      <th>OVER_LIMIT_FEE_3</th>\n",
       "      <th>...</th>\n",
       "      <th>NATURE_OF_BUS_DESC_PHARMACEUTICALS</th>\n",
       "      <th>NATURE_OF_BUS_DESC_PLANTATIONS</th>\n",
       "      <th>NATURE_OF_BUS_DESC_PROFESSIONAL SERVICES</th>\n",
       "      <th>NATURE_OF_BUS_DESC_PUBLIC UTILITY</th>\n",
       "      <th>NATURE_OF_BUS_DESC_PUBLICITY</th>\n",
       "      <th>NATURE_OF_BUS_DESC_SHARE BROKING</th>\n",
       "      <th>NATURE_OF_BUS_DESC_TELECOMMUNICATIONS</th>\n",
       "      <th>NATURE_OF_BUS_DESC_TRADING</th>\n",
       "      <th>NATURE_OF_BUS_DESC_TRAVEL</th>\n",
       "      <th>NATURE_OF_BUS_DESC_TRAVEL/AIRLINE</th>\n",
       "    </tr>\n",
       "  </thead>\n",
       "  <tbody>\n",
       "    <tr>\n",
       "      <th>0</th>\n",
       "      <td>93944.0</td>\n",
       "      <td>542.70</td>\n",
       "      <td>0.00</td>\n",
       "      <td>0.00</td>\n",
       "      <td>0.00</td>\n",
       "      <td>0.00</td>\n",
       "      <td>0.00</td>\n",
       "      <td>0.0</td>\n",
       "      <td>0.0</td>\n",
       "      <td>0.0</td>\n",
       "      <td>...</td>\n",
       "      <td>0.0</td>\n",
       "      <td>0.0</td>\n",
       "      <td>0.0</td>\n",
       "      <td>0.0</td>\n",
       "      <td>0.0</td>\n",
       "      <td>0.0</td>\n",
       "      <td>0.0</td>\n",
       "      <td>1.0</td>\n",
       "      <td>0.0</td>\n",
       "      <td>0.0</td>\n",
       "    </tr>\n",
       "    <tr>\n",
       "      <th>1</th>\n",
       "      <td>7238.0</td>\n",
       "      <td>7798.39</td>\n",
       "      <td>4076.19</td>\n",
       "      <td>2045.47</td>\n",
       "      <td>1551.43</td>\n",
       "      <td>7527.77</td>\n",
       "      <td>887.62</td>\n",
       "      <td>0.0</td>\n",
       "      <td>0.0</td>\n",
       "      <td>0.0</td>\n",
       "      <td>...</td>\n",
       "      <td>0.0</td>\n",
       "      <td>0.0</td>\n",
       "      <td>0.0</td>\n",
       "      <td>0.0</td>\n",
       "      <td>0.0</td>\n",
       "      <td>0.0</td>\n",
       "      <td>0.0</td>\n",
       "      <td>1.0</td>\n",
       "      <td>0.0</td>\n",
       "      <td>0.0</td>\n",
       "    </tr>\n",
       "    <tr>\n",
       "      <th>2</th>\n",
       "      <td>11226.0</td>\n",
       "      <td>0.00</td>\n",
       "      <td>0.00</td>\n",
       "      <td>0.00</td>\n",
       "      <td>0.00</td>\n",
       "      <td>0.00</td>\n",
       "      <td>250.00</td>\n",
       "      <td>0.0</td>\n",
       "      <td>0.0</td>\n",
       "      <td>0.0</td>\n",
       "      <td>...</td>\n",
       "      <td>0.0</td>\n",
       "      <td>0.0</td>\n",
       "      <td>0.0</td>\n",
       "      <td>0.0</td>\n",
       "      <td>0.0</td>\n",
       "      <td>0.0</td>\n",
       "      <td>0.0</td>\n",
       "      <td>1.0</td>\n",
       "      <td>0.0</td>\n",
       "      <td>0.0</td>\n",
       "    </tr>\n",
       "    <tr>\n",
       "      <th>3</th>\n",
       "      <td>94712.0</td>\n",
       "      <td>818.80</td>\n",
       "      <td>650.04</td>\n",
       "      <td>579.68</td>\n",
       "      <td>830.91</td>\n",
       "      <td>577.58</td>\n",
       "      <td>636.81</td>\n",
       "      <td>0.0</td>\n",
       "      <td>0.0</td>\n",
       "      <td>0.0</td>\n",
       "      <td>...</td>\n",
       "      <td>0.0</td>\n",
       "      <td>0.0</td>\n",
       "      <td>0.0</td>\n",
       "      <td>0.0</td>\n",
       "      <td>0.0</td>\n",
       "      <td>0.0</td>\n",
       "      <td>0.0</td>\n",
       "      <td>0.0</td>\n",
       "      <td>0.0</td>\n",
       "      <td>0.0</td>\n",
       "    </tr>\n",
       "    <tr>\n",
       "      <th>4</th>\n",
       "      <td>119466.0</td>\n",
       "      <td>570.24</td>\n",
       "      <td>618.13</td>\n",
       "      <td>602.91</td>\n",
       "      <td>250.00</td>\n",
       "      <td>250.00</td>\n",
       "      <td>250.00</td>\n",
       "      <td>0.0</td>\n",
       "      <td>0.0</td>\n",
       "      <td>0.0</td>\n",
       "      <td>...</td>\n",
       "      <td>0.0</td>\n",
       "      <td>0.0</td>\n",
       "      <td>0.0</td>\n",
       "      <td>0.0</td>\n",
       "      <td>0.0</td>\n",
       "      <td>0.0</td>\n",
       "      <td>0.0</td>\n",
       "      <td>0.0</td>\n",
       "      <td>0.0</td>\n",
       "      <td>0.0</td>\n",
       "    </tr>\n",
       "  </tbody>\n",
       "</table>\n",
       "<p>5 rows × 121 columns</p>\n",
       "</div>"
      ],
      "text/plain": [
       "     ACC_NO  MIN_DUE_AMT_1  MIN_DUE_AMT_2  MIN_DUE_AMT_3  MIN_DUE_AMT_4  \\\n",
       "0   93944.0         542.70           0.00           0.00           0.00   \n",
       "1    7238.0        7798.39        4076.19        2045.47        1551.43   \n",
       "2   11226.0           0.00           0.00           0.00           0.00   \n",
       "3   94712.0         818.80         650.04         579.68         830.91   \n",
       "4  119466.0         570.24         618.13         602.91         250.00   \n",
       "\n",
       "   MIN_DUE_AMT_5  MIN_DUE_AMT_6  OVER_LIMIT_FEE_1  OVER_LIMIT_FEE_2  \\\n",
       "0           0.00           0.00               0.0               0.0   \n",
       "1        7527.77         887.62               0.0               0.0   \n",
       "2           0.00         250.00               0.0               0.0   \n",
       "3         577.58         636.81               0.0               0.0   \n",
       "4         250.00         250.00               0.0               0.0   \n",
       "\n",
       "   OVER_LIMIT_FEE_3  ...  NATURE_OF_BUS_DESC_PHARMACEUTICALS  \\\n",
       "0               0.0  ...                                 0.0   \n",
       "1               0.0  ...                                 0.0   \n",
       "2               0.0  ...                                 0.0   \n",
       "3               0.0  ...                                 0.0   \n",
       "4               0.0  ...                                 0.0   \n",
       "\n",
       "   NATURE_OF_BUS_DESC_PLANTATIONS  NATURE_OF_BUS_DESC_PROFESSIONAL SERVICES  \\\n",
       "0                             0.0                                       0.0   \n",
       "1                             0.0                                       0.0   \n",
       "2                             0.0                                       0.0   \n",
       "3                             0.0                                       0.0   \n",
       "4                             0.0                                       0.0   \n",
       "\n",
       "   NATURE_OF_BUS_DESC_PUBLIC UTILITY  NATURE_OF_BUS_DESC_PUBLICITY  \\\n",
       "0                                0.0                           0.0   \n",
       "1                                0.0                           0.0   \n",
       "2                                0.0                           0.0   \n",
       "3                                0.0                           0.0   \n",
       "4                                0.0                           0.0   \n",
       "\n",
       "   NATURE_OF_BUS_DESC_SHARE BROKING  NATURE_OF_BUS_DESC_TELECOMMUNICATIONS  \\\n",
       "0                               0.0                                    0.0   \n",
       "1                               0.0                                    0.0   \n",
       "2                               0.0                                    0.0   \n",
       "3                               0.0                                    0.0   \n",
       "4                               0.0                                    0.0   \n",
       "\n",
       "   NATURE_OF_BUS_DESC_TRADING  NATURE_OF_BUS_DESC_TRAVEL  \\\n",
       "0                         1.0                        0.0   \n",
       "1                         1.0                        0.0   \n",
       "2                         1.0                        0.0   \n",
       "3                         0.0                        0.0   \n",
       "4                         0.0                        0.0   \n",
       "\n",
       "   NATURE_OF_BUS_DESC_TRAVEL/AIRLINE  \n",
       "0                                0.0  \n",
       "1                                0.0  \n",
       "2                                0.0  \n",
       "3                                0.0  \n",
       "4                                0.0  \n",
       "\n",
       "[5 rows x 121 columns]"
      ]
     },
     "execution_count": 4,
     "metadata": {},
     "output_type": "execute_result"
    }
   ],
   "source": [
    "df.head()"
   ]
  },
  {
   "cell_type": "code",
   "execution_count": 5,
   "metadata": {},
   "outputs": [],
   "source": [
    "df1=df.drop(columns=['ACC_NO'])"
   ]
  },
  {
   "cell_type": "code",
   "execution_count": 6,
   "metadata": {},
   "outputs": [],
   "source": [
    "x=df1.drop(columns=['3_MONTH_NPL_STATUS'])\n",
    "y=df1.loc[:,['3_MONTH_NPL_STATUS']]"
   ]
  },
  {
   "cell_type": "code",
   "execution_count": 7,
   "metadata": {},
   "outputs": [],
   "source": [
    "X_train, X_test, y_train, y_test = train_test_split(x, y, test_size=0.3,stratify=y,shuffle=True)"
   ]
  },
  {
   "cell_type": "code",
   "execution_count": 10,
   "metadata": {},
   "outputs": [],
   "source": [
    "class_weights = class_weight.compute_class_weight(class_weight='balanced',\n",
    "                                                 classes=np.unique(y_train),\n",
    "                                                 y=y_train.values.reshape(-1))\n",
    "class_weights_dict={0:class_weights[0],1:class_weights[1]}"
   ]
  },
  {
   "cell_type": "code",
   "execution_count": 78,
   "metadata": {},
   "outputs": [],
   "source": [
    "#Initializing the XGB model\n",
    "model=XGBClassifier(\n",
    "    scale_pos_weight=200,\n",
    "    max_depth=3,\n",
    "    min_child_weight=3,\n",
    "    subsample=0.65,\n",
    "    colsample_bytree=0.9,\n",
    "    objective='binary:logistic',\n",
    "    eta=0.005,\n",
    "    gamma=0.1,\n",
    "    n_estimators=1000 ,\n",
    "     enable_categorical=True,\n",
    "     eval_metric='auc',\n",
    "    alpha=0.05\n",
    " )\n",
    "\n",
    "\n",
    "#Fitting the model\n",
    "model.fit(X_train,y_train)\n",
    "\n",
    "#Getting the probability and adjusting the threshold\n",
    "y_pred_proba=model.predict_proba(X_test)[:,1]\n",
    "y_pred_binary = (y_pred_proba >= 0.7).astype(int)"
   ]
  },
  {
   "cell_type": "code",
   "execution_count": 79,
   "metadata": {},
   "outputs": [],
   "source": [
    "y_pred_proba=model.predict_proba(X_test)[:,1]"
   ]
  },
  {
   "cell_type": "code",
   "execution_count": 74,
   "metadata": {},
   "outputs": [],
   "source": [
    "y_pred_binary = (y_pred_proba >= 0.7).astype(int)"
   ]
  },
  {
   "cell_type": "code",
   "execution_count": 82,
   "metadata": {},
   "outputs": [
    {
     "data": {
      "image/png": "[encoded data removed]",
      "text/plain": [
       "<Figure size 200x200 with 1 Axes>"
      ]
     },
     "metadata": {},
     "output_type": "display_data"
    }
   ],
   "source": [
    "\n",
    "# NORMAL PARAMS & 0.7 THRESHOLD\n",
    "\n",
    "conf_matrix_xgb = confusion_matrix(y_test,y_pred_binary)\n",
    "plt.figure(figsize=(2, 2))\n",
    "sns.heatmap(conf_matrix_xgb, annot=True, cmap='Blues', fmt='d', cbar=False,\n",
    "            xticklabels=model.classes_, yticklabels=model.classes_)\n",
    "plt.xlabel('Predicted Labels')\n",
    "plt.ylabel('True Labels')\n",
    "plt.title('Confusion Matrix')\n",
    "plt.show()"
   ]
  },
  {
   "cell_type": "code",
   "execution_count": 86,
   "metadata": {},
   "outputs": [
    {
     "name": "stdout",
     "output_type": "stream",
     "text": [
      "AUC: 82.92%\n",
      "F1: 10.74%\n",
      "Precision: 5.81%\n",
      "Recall: 70.99%\n",
      "Accuracy: 94.74%\n"
     ]
    }
   ],
   "source": [
    "print('AUC: {:.2f}%'.format(roc_auc_score(y_test, y_pred_binary) * 100))\n",
    "print('F1: {:.2f}%'.format(f1_score(y_test, y_pred_binary) * 100))\n",
    "print('Precision: {:.2f}%'.format(precision_score(y_test, y_pred_binary) * 100))\n",
    "print('Recall: {:.2f}%'.format(recall_score(y_test, y_pred_binary) * 100))\n",
    "print('Accuracy: {:.2f}%'.format(accuracy_score(y_test, y_pred_binary) * 100))"
   ]
  },
  {
   "cell_type": "code",
   "execution_count": 81,
   "metadata": {},
   "outputs": [
    {
     "data": {
      "image/png": "[encoded data removed]",
      "text/plain": [
       "<Figure size 200x200 with 1 Axes>"
      ]
     },
     "metadata": {},
     "output_type": "display_data"
    }
   ],
   "source": [
    "# MLFLOW PARAMS & 0.7 THRESHOLD\n",
    "\n",
    "conf_matrix_xgb = confusion_matrix(y_test,y_pred_binary)\n",
    "plt.figure(figsize=(2, 2))\n",
    "sns.heatmap(conf_matrix_xgb, annot=True, cmap='Blues', fmt='d', cbar=False,\n",
    "            xticklabels=model.classes_, yticklabels=model.classes_)\n",
    "plt.xlabel('Predicted Labels')\n",
    "plt.ylabel('True Labels')\n",
    "plt.title('Confusion Matrix')\n",
    "plt.show()"
   ]
  },
  {
   "cell_type": "code",
   "execution_count": 28,
   "metadata": {},
   "outputs": [
    {
     "data": {
      "image/png": "[encoded data removed]",
      "text/plain": [
       "<Figure size 200x200 with 1 Axes>"
      ]
     },
     "metadata": {},
     "output_type": "display_data"
    }
   ],
   "source": [
    "# MLFLOW PARAMS & 0.5 THRESHOLD\n",
    "\n",
    "conf_matrix_xgb = confusion_matrix(y_test,y_pred_binary)\n",
    "plt.figure(figsize=(2, 2))\n",
    "sns.heatmap(conf_matrix_xgb, annot=True, cmap='Blues', fmt='d', cbar=False,\n",
    "            xticklabels=model.classes_, yticklabels=model.classes_)\n",
    "plt.xlabel('Predicted Labels')\n",
    "plt.ylabel('True Labels')\n",
    "plt.title('Confusion Matrix')\n",
    "plt.show()"
   ]
  },
  {
   "cell_type": "code",
   "execution_count": 44,
   "metadata": {},
   "outputs": [
    {
     "data": {
      "image/png": "[encoded data removed]",
      "text/plain": [
       "<Figure size 200x200 with 1 Axes>"
      ]
     },
     "metadata": {},
     "output_type": "display_data"
    }
   ],
   "source": [
    "# MLFLOW PARAMS & 0.5 THRESHOLD\n",
    "\n",
    "conf_matrix_xgb = confusion_matrix(y_test,y_pred_binary)\n",
    "plt.figure(figsize=(2, 2))\n",
    "sns.heatmap(conf_matrix_xgb, annot=True, cmap='Blues', fmt='d', cbar=False,\n",
    "            xticklabels=model.classes_, yticklabels=model.classes_)\n",
    "plt.xlabel('Predicted Labels')\n",
    "plt.ylabel('True Labels')\n",
    "plt.title('Confusion Matrix')\n",
    "plt.show()"
   ]
  },
  {
   "cell_type": "code",
   "execution_count": null,
   "metadata": {},
   "outputs": [],
   "source": []
  },
  {
   "cell_type": "code",
   "execution_count": null,
   "metadata": {},
   "outputs": [],
   "source": []
  },
  {
   "cell_type": "code",
   "execution_count": 61,
   "metadata": {},
   "outputs": [],
   "source": [
    "from imblearn.ensemble import EasyEnsembleClassifier\n",
    "from sklearn.ensemble import AdaBoostClassifier\n",
    "from sklearn.tree import DecisionTreeClassifier"
   ]
  },
  {
   "cell_type": "code",
   "execution_count": 72,
   "metadata": {},
   "outputs": [
    {
     "name": "stderr",
     "output_type": "stream",
     "text": [
      "c:\\Users\\ASUS\\AppData\\Local\\Programs\\Python\\Python311\\Lib\\site-packages\\sklearn\\ensemble\\_bagging.py:888: DataConversionWarning: A column-vector y was passed when a 1d array was expected. Please change the shape of y to (n_samples, ), for example using ravel().\n",
      "  y = column_or_1d(y, warn=True)\n"
     ]
    }
   ],
   "source": [
    "cost_matrix = np.array([[0, 1], [10, 0]])  # [TN, FP], [FN, TP]\n",
    "\n",
    "# Cost-sensitive AdaBoost using EasyEnsemble\n",
    "cost_sensitive_adaboost = EasyEnsembleClassifier(\n",
    "    estimator=AdaBoostClassifier(\n",
    "        estimator=DecisionTreeClassifier(max_depth=3),\n",
    "        n_estimators=50,\n",
    "        algorithm='SAMME',\n",
    "        random_state=42\n",
    "    ),\n",
    "    n_estimators=10,\n",
    "    random_state=42\n",
    ")\n",
    "\n",
    "# Train the model\n",
    "cost_sensitive_adaboost.fit(X_train, y_train)\n",
    "\n",
    "# Make predictions\n",
    "y_pred_ada = cost_sensitive_adaboost.predict(X_test)"
   ]
  },
  {
   "cell_type": "code",
   "execution_count": 73,
   "metadata": {},
   "outputs": [
    {
     "data": {
      "image/png": "[encoded data removed]",
      "text/plain": [
       "<Figure size 200x200 with 1 Axes>"
      ]
     },
     "metadata": {},
     "output_type": "display_data"
    }
   ],
   "source": [
    "\n",
    "# NORMAL PARAMS & 0.7 THRESHOLD\n",
    "\n",
    "conf_matrix_xgb = confusion_matrix(y_test,y_pred_ada)\n",
    "plt.figure(figsize=(2, 2))\n",
    "sns.heatmap(conf_matrix_xgb, annot=True, cmap='Blues', fmt='d', cbar=False,\n",
    "            xticklabels=model.classes_, yticklabels=model.classes_)\n",
    "plt.xlabel('Predicted Labels')\n",
    "plt.ylabel('True Labels')\n",
    "plt.title('Confusion Matrix')\n",
    "plt.show()"
   ]
  },
  {
   "cell_type": "code",
   "execution_count": null,
   "metadata": {},
   "outputs": [],
   "source": []
  }
 ],
 "metadata": {
  "kernelspec": {
   "display_name": "Python 3",
   "language": "python",
   "name": "python3"
  },
  "language_info": {
   "codemirror_mode": {
    "name": "ipython",
    "version": 3
   },
   "file_extension": ".py",
   "mimetype": "text/x-python",
   "name": "python",
   "nbconvert_exporter": "python",
   "pygments_lexer": "ipython3",
   "version": "3.11.9"
  }
 },
 "nbformat": 4,
 "nbformat_minor": 2
}
