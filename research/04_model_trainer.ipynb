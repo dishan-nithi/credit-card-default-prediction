{
 "cells": [
  {
   "cell_type": "code",
   "execution_count": 2,
   "metadata": {},
   "outputs": [],
   "source": [
    "import os"
   ]
  },
  {
   "cell_type": "code",
   "execution_count": 3,
   "metadata": {},
   "outputs": [
    {
     "data": {
      "text/plain": [
       "'c:\\\\Users\\\\ASUS\\\\Documents\\\\FYP\\\\credit-card-default-prediction\\\\research'"
      ]
     },
     "execution_count": 3,
     "metadata": {},
     "output_type": "execute_result"
    }
   ],
   "source": [
    "%pwd"
   ]
  },
  {
   "cell_type": "code",
   "execution_count": 4,
   "metadata": {},
   "outputs": [],
   "source": [
    "os.chdir('..')"
   ]
  },
  {
   "cell_type": "code",
   "execution_count": 5,
   "metadata": {},
   "outputs": [
    {
     "data": {
      "text/plain": [
       "'c:\\\\Users\\\\ASUS\\\\Documents\\\\FYP\\\\credit-card-default-prediction'"
      ]
     },
     "execution_count": 5,
     "metadata": {},
     "output_type": "execute_result"
    }
   ],
   "source": [
    "%pwd"
   ]
  },
  {
   "cell_type": "code",
   "execution_count": 6,
   "metadata": {},
   "outputs": [],
   "source": [
    "from dataclasses import dataclass\n",
    "from pathlib import Path\n",
    "\n",
    "@dataclass(frozen=True)\n",
    "class ModelTrainerConfig:\n",
    "    root_dir: Path\n",
    "    train_data_path: Path\n",
    "    test_data_path: Path\n",
    "    model_name: str\n",
    "    scale_pos_weight: int\n",
    "    max_depth: int\n",
    "    min_child_weight: int\n",
    "    subsample: float\n",
    "    colsample_bytree: float\n",
    "    objective: str\n",
    "    eta: float\n",
    "    gamma: float\n",
    "    n_estimators: int \n",
    "    enable_categorical: str\n",
    "    eval_metric: str\n",
    "    alpha: float\n",
    "    target_column: str"
   ]
  },
  {
   "cell_type": "code",
   "execution_count": 7,
   "metadata": {},
   "outputs": [],
   "source": [
    "from default_predictor.constants import *\n",
    "from default_predictor.utils.common import read_yaml, create_directories"
   ]
  },
  {
   "cell_type": "code",
   "execution_count": 21,
   "metadata": {},
   "outputs": [],
   "source": [
    "class ConfigurationManager:\n",
    "    def __init__(\n",
    "        self,\n",
    "        config_filepath = CONFIG_FILE_PATH,\n",
    "        params_filepath = PARAMS_FILE_PATH,\n",
    "        schema_filepath = SCHEMA_FILE_PATH):\n",
    "        \n",
    "        self.config = read_yaml(config_filepath)\n",
    "        self.params = read_yaml(params_filepath)\n",
    "        self.schema = read_yaml(schema_filepath)\n",
    "        \n",
    "        create_directories([self.config.artifacts_root])\n",
    "        \n",
    "    def get_model_trainer_config(self) -> ModelTrainerConfig:\n",
    "        config = self.config.model_trainer\n",
    "        params = self.params.XGBoost\n",
    "        schema = self.schema.TARGET_COLUMN\n",
    "        \n",
    "        create_directories([config.root_dir])\n",
    "        \n",
    "        model_trainer_config = ModelTrainerConfig(\n",
    "            root_dir = config.root_dir,\n",
    "            train_data_path = config.train_data_path,\n",
    "            test_data_path = config.test_data_path,\n",
    "            model_name = config.model_name,\n",
    "            scale_pos_weight = params.scale_pos_weight,\n",
    "            max_depth = params.max_depth,\n",
    "            min_child_weight = params.min_child_weight,\n",
    "            subsample = params.subsample,\n",
    "            colsample_bytree = params.colsample_bytree,\n",
    "            objective = params.objective,\n",
    "            eta = params.eta,\n",
    "            gamma = params.gamma,\n",
    "            n_estimators = params.n_estimators ,\n",
    "            enable_categorical = params.enable_categorical,\n",
    "            eval_metric = params.eval_metric,\n",
    "            alpha = params.alpha,\n",
    "            target_column = schema.name\n",
    "        )\n",
    "        \n",
    "        return model_trainer_config"
   ]
  },
  {
   "cell_type": "code",
   "execution_count": 22,
   "metadata": {},
   "outputs": [],
   "source": [
    "import pandas as pd\n",
    "import os\n",
    "from default_predictor import logger\n",
    "from xgboost import XGBClassifier\n",
    "import joblib"
   ]
  },
  {
   "cell_type": "code",
   "execution_count": 25,
   "metadata": {},
   "outputs": [],
   "source": [
    "class ModelTrainer:\n",
    "    def __init__(self, config: ModelTrainerConfig):\n",
    "        self.config = config\n",
    "        \n",
    "    def train(self):\n",
    "        train_data = pd.read_csv(self.config.train_data_path)\n",
    "        test_data = pd.read_csv(self.config.test_data_path)\n",
    "        \n",
    "        X_train = train_data.drop([self.config.target_column],axis=1)\n",
    "        X_test = test_data.drop([self.config.target_column],axis=1)\n",
    "        y_train = train_data[[self.config.target_column]]\n",
    "        y_test = test_data[[self.config.target_column]]\n",
    "        \n",
    "        params = {\n",
    "        \"scale_pos_weight\" : self.config.scale_pos_weight,\n",
    "        \"max_depth\" : self.config.max_depth,\n",
    "        \"min_child_weight\" : self.config.min_child_weight,\n",
    "        \"subsample\" : self.config.subsample,\n",
    "        \"colsample_bytree\" : self.config.colsample_bytree,\n",
    "        \"objective\" : self.config.objective,\n",
    "        \"eta\" : self.config.eta,\n",
    "        \"gamma\" : self.config.gamma,\n",
    "        \"n_estimators\" : self.config.n_estimators ,\n",
    "        \"enable_categorical\" : self.config.enable_categorical,\n",
    "        \"eval_metric\" : self.config.eval_metric,\n",
    "        \"alpha\" : self.config.alpha\n",
    "        }\n",
    "        \n",
    "        clf = XGBClassifier(**params, random_state=42)\n",
    "        clf.fit(X_train, y_train)\n",
    "        \n",
    "        joblib.dump(clf, os.path.join(self.config.root_dir, self.config.model_name))"
   ]
  },
  {
   "cell_type": "code",
   "execution_count": 26,
   "metadata": {},
   "outputs": [
    {
     "name": "stdout",
     "output_type": "stream",
     "text": [
      "[2024-12-12 16:24:40,761: INFO: common: YAML file config\\config.yaml loaded successfuly]\n",
      "[2024-12-12 16:24:40,763: INFO: common: YAML file params.yaml loaded successfuly]\n",
      "[2024-12-12 16:24:40,771: INFO: common: YAML file schema.yaml loaded successfuly]\n",
      "[2024-12-12 16:24:40,771: INFO: common: created directory at artifacts]\n",
      "[2024-12-12 16:24:40,778: INFO: common: created directory at artifacts/model_trainer]\n"
     ]
    }
   ],
   "source": [
    "try:\n",
    "    config = ConfigurationManager()\n",
    "    model_trainer_config = config.get_model_trainer_config()\n",
    "    model_trainer_config = ModelTrainer(config=model_trainer_config)\n",
    "    model_trainer_config.train()\n",
    "except Exception as e:\n",
    "    raise e"
   ]
  },
  {
   "cell_type": "code",
   "execution_count": null,
   "metadata": {},
   "outputs": [],
   "source": []
  }
 ],
 "metadata": {
  "kernelspec": {
   "display_name": "Python 3",
   "language": "python",
   "name": "python3"
  },
  "language_info": {
   "codemirror_mode": {
    "name": "ipython",
    "version": 3
   },
   "file_extension": ".py",
   "mimetype": "text/x-python",
   "name": "python",
   "nbconvert_exporter": "python",
   "pygments_lexer": "ipython3",
   "version": "3.11.9"
  }
 },
 "nbformat": 4,
 "nbformat_minor": 2
}
